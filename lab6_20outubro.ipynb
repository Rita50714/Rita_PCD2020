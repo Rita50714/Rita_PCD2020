{
 "cells": [
  {
   "cell_type": "markdown",
   "metadata": {},
   "source": [
    "calculate NPV. The rate is a float and the cash flows and investment are in a list.\n",
    "create a function called NPV to calculate NPV"
   ]
  },
  {
   "cell_type": "code",
   "execution_count": 1,
   "metadata": {},
   "outputs": [],
   "source": [
    "CashFlows=[]\n",
    "CF1=100\n",
    "CF2=200\n",
    "CF3=250\n",
    "CF4=300\n",
    "Investimento=1000\n",
    "rate=0.2"
   ]
  },
  {
   "cell_type": "code",
   "execution_count": 2,
   "metadata": {
    "scrolled": true
   },
   "outputs": [
    {
     "name": "stdout",
     "output_type": "stream",
     "text": [
      "[100, 200, 250, 300]\n"
     ]
    }
   ],
   "source": [
    "CashFlows.append(CF1)\n",
    "CashFlows.append(CF2)\n",
    "CashFlows.append(CF3)\n",
    "CashFlows.append(CF4)\n",
    "print(CashFlows)"
   ]
  },
  {
   "cell_type": "code",
   "execution_count": 3,
   "metadata": {},
   "outputs": [
    {
     "data": {
      "text/plain": [
       "-488.4259259259259"
      ]
     },
     "execution_count": 3,
     "metadata": {},
     "output_type": "execute_result"
    }
   ],
   "source": [
    "def npv(CashFlows, rate):\n",
    "    return sum (f/((1 + rate)**i)\n",
    "for i, f in enumerate (CashFlows, 1))-Investimento\n",
    "npv (CashFlows, rate)"
   ]
  },
  {
   "cell_type": "markdown",
   "metadata": {},
   "source": [
    "create a function to calcule IRR. In order to calculate IRR you may aproximate the follwoing\n",
    "expression: rate= rate*(1-NPV(CFList, rate)/invest)"
   ]
  },
  {
   "cell_type": "code",
   "execution_count": 11,
   "metadata": {},
   "outputs": [
    {
     "name": "stdout",
     "output_type": "stream",
     "text": [
      "0.2976851851851852\n"
     ]
    }
   ],
   "source": [
    "IRR= rate*(1-npv(CashFlows, rate)/Investimento)\n",
    "print(IRR)"
   ]
  },
  {
   "cell_type": "markdown",
   "metadata": {},
   "source": [
    "create a function for payback period"
   ]
  },
  {
   "cell_type": "code",
   "execution_count": 14,
   "metadata": {},
   "outputs": [
    {
     "data": {
      "text/plain": [
       "<generator object payback.<locals>.<genexpr> at 0x0000025E1E1932E0>"
      ]
     },
     "execution_count": 14,
     "metadata": {},
     "output_type": "execute_result"
    }
   ],
   "source": [
    "def payback(Investimento, CashFlows):\n",
    "    return ((Investimento/f)\n",
    "for f in enumerate (CashFlows))\n",
    "payback (Investimento, CashFlows)"
   ]
  },
  {
   "cell_type": "code",
   "execution_count": null,
   "metadata": {},
   "outputs": [],
   "source": []
  }
 ],
 "metadata": {
  "kernelspec": {
   "display_name": "Python 3",
   "language": "python",
   "name": "python3"
  },
  "language_info": {
   "codemirror_mode": {
    "name": "ipython",
    "version": 3
   },
   "file_extension": ".py",
   "mimetype": "text/x-python",
   "name": "python",
   "nbconvert_exporter": "python",
   "pygments_lexer": "ipython3",
   "version": "3.8.3"
  }
 },
 "nbformat": 4,
 "nbformat_minor": 4
}
