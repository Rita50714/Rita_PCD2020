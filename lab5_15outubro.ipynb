{
 "cells": [
  {
   "cell_type": "markdown",
   "metadata": {},
   "source": [
    "1. Read the file. The file may be stored in a local folder on in the internet."
   ]
  },
  {
   "cell_type": "code",
   "execution_count": 1,
   "metadata": {},
   "outputs": [],
   "source": [
    "import requests\n",
    "url='https://raw.githubusercontent.com/masterfloss/data/main/jobs.txt'\n",
    "response = requests.get(url)\n",
    "speech = response.text"
   ]
  },
  {
   "cell_type": "markdown",
   "metadata": {},
   "source": [
    "2. What is the type of data stored into the variable speech."
   ]
  },
  {
   "cell_type": "code",
   "execution_count": 2,
   "metadata": {},
   "outputs": [
    {
     "data": {
      "text/plain": [
       "str"
      ]
     },
     "execution_count": 2,
     "metadata": {},
     "output_type": "execute_result"
    }
   ],
   "source": [
    "type(speech)"
   ]
  },
  {
   "cell_type": "markdown",
   "metadata": {},
   "source": [
    "3. Remove simbols that are not useful. Sugestion: use replace method."
   ]
  },
  {
   "cell_type": "code",
   "execution_count": 3,
   "metadata": {},
   "outputs": [
    {
     "name": "stdout",
     "output_type": "stream",
     "text": [
      "I am honored to be with you today at your commencement from one of the finest universities in the world. I never graduated from college. Truth be told, this is the closest I've ever gotten to a college graduation. Today I want to tell you three stories from my life. That's it. No big deal. Just three stories.\n",
      "\n",
      "The first story is about connecting the dots.\n",
      "\n",
      "I dropped out of Reed College after the first 6 months, but then stayed around as a drop,in for another 18 months or so before I really quit. So why did I drop out?\n",
      "\n",
      "It started before I was born. My biological mother was a young, unwed college graduate student, and she decided to put me up for adoption. She felt very strongly that I should be adopted by college graduates, so everything was all set for me to be adopted at birth by a lawyer and his wife. Except that when I popped out they decided at the last minute that they really wanted a girl. So my parents, who were on a waiting list, got a call in the middle of the night asking: \"We have an unexpected baby boy; do you want him?\" They said: \"Of course.\" My biological mother later found out that my mother had never graduated from college and that my father had never graduated from high school. She refused to sign the final adoption papers. She only relented a few months later when my parents promised that I would someday go to college.\n",
      "\n",
      "And 17 years later I did go to college. But I naively chose a college that was almost as expensive as Stanford, and all of my working,class parents' savings were being spent on my college tuition. After six months, I couldn't see the value in it. I had no idea what I wanted to do with my life and no idea how college was going to help me figure it out. And here I was spending all of the money my parents had saved their entire life. So I decided to drop out and trust that it would all work out OK. It was pretty scary at the time, but looking back it was one of the best decisions I ever made. The minute I dropped out I could stop taking the required classes that didn't interest me, and begin dropping in on the ones that looked interesting.\n",
      "\n",
      "It wasn't all romantic. I didn't have a dorm room, so I slept on the floor in friends' rooms, I returned Coke bottles for the 5¢ deposits to buy food with, and I would walk the 7 miles across town every Sunday night to get one good meal a week at the Hare Krishna temple. I loved it. And much of what I stumbled into by following my curiosity and intuition turned out to be priceless later on. Let me give you one example:\n",
      "\n",
      "Reed College at that time offered perhaps the best calligraphy instruction in the country. Throughout the campus every poster, every label on every drawer, was beautifully hand calligraphed. Because I had dropped out and didn't have to take the normal classes, I decided to take a calligraphy class to learn how to do this. I learned about serif and sans serif typefaces, about varying the amount of space between different letter combinations, about what makes great typography great. It was beautiful, historical, artistically subtle in a way that science can't capture, and I found it fascinating.\n",
      "\n",
      "None of this had even a hope of any practical application in my life. But 10 years later, when we were designing the first Macintosh computer, it all came back to me. And we designed it all into the Mac. It was the first computer with beautiful typography. If I had never dropped in on that single course in college, the Mac would have never had multiple typefaces or proportionally spaced fonts. And since Windows just copied the Mac, it's likely that no personal computer would have them. If I had never dropped out, I would have never dropped in on this calligraphy class, and personal computers might not have the wonderful typography that they do. Of course it was impossible to connect the dots looking forward when I was in college. But it was very, very clear looking backward 10 years later.\n",
      "\n",
      "Again, you can't connect the dots looking forward; you can only connect them looking backward. So you have to trust that the dots will somehow connect in your future. You have to trust in something — your gut, destiny, life, karma, whatever. This approach has never let me down, and it has made all the difference in my life.\n",
      "\n",
      "My second story is about love and loss.\n",
      "\n",
      "I was lucky — I found what I loved to do early in life. Woz and I started Apple in my parents' garage when I was 20. We worked hard, and in 10 years Apple had grown from just the two of us in a garage into a $2 billion company with over 4,000 employees. We had just released our finest creation — the Macintosh — a year earlier, and I had just turned 30. And then I got fired. How can you get fired from a company you started? Well, as Apple grew we hired someone who I thought was very talented to run the company with me, and for the first year or so things went well. But then our visions of the future began to diverge and eventually we had a falling out. When we did, our Board of Directors sided with him. So at 30 I was out. And very publicly out. What had been the focus of my entire adult life was gone, and it was devastating.\n",
      "\n",
      "I really didn't know what to do for a few months. I felt that I had let the previous generation of entrepreneurs down — that I had dropped the baton as it was being passed to me. I met with David Packard and Bob Noyce and tried to apologize for screwing up so badly. I was a very public failure, and I even thought about running away from the valley. But something slowly began to dawn on me — I still loved what I did. The turn of events at Apple had not changed that one bit. I had been rejected, but I was still in love. And so I decided to start over.\n",
      "\n",
      "I didn't see it then, but it turned out that getting fired from Apple was the best thing that could have ever happened to me. The heaviness of being successful was replaced by the lightness of being a beginner again, less sure about everything. It freed me to enter one of the most creative periods of my life.\n",
      "\n",
      "During the next five years, I started a company named NeXT, another company named Pixar, and fell in love with an amazing woman who would become my wife. Pixar went on to create the world's first computer animated feature film, Toy Story, and is now the most successful animation studio in the world. In a remarkable turn of events, Apple bought NeXT, I returned to Apple, and the technology we developed at NeXT is at the heart of Apple's current renaissance. And Laurene and I have a wonderful family together.\n",
      "\n",
      "I'm pretty sure none of this would have happened if I hadn't been fired from Apple. It was awful tasting medicine, but I guess the patient needed it. Sometimes life hits you in the head with a brick. Don't lose faith. I'm convinced that the only thing that kept me going was that I loved what I did. You've got to find what you love. And that is as true for your work as it is for your lovers. Your work is going to fill a large part of your life, and the only way to be truly satisfied is to do what you believe is great work. And the only way to do great work is to love what you do. If you haven't found it yet, keep looking. Don't settle. As with all matters of the heart, you'll know when you find it. And, like any great relationship, it just gets better and better as the years roll on. So keep looking until you find it. Don't settle.\n",
      "\n",
      "My third story is about death.\n",
      "\n",
      "When I was 17, I read a quote that went something like: \"If you live each day as if it was your last, someday you'll most certainly be right.\" It made an impression on me, and since then, for the past 33 years, I have looked in the mirror every morning and asked myself: \"If today were the last day of my life, would I want to do what I am about to do today?\" And whenever the answer has been \"No\" for too many days in a row, I know I need to change something.\n",
      "\n",
      "Remembering that I'll be dead soon is the most important tool I've ever encountered to help me make the big choices in life. Because almost everything — all external expectations, all pride, all fear of embarrassment or failure — these things just fall away in the face of death, leaving only what is truly important. Remembering that you are going to die is the best way I know to avoid the trap of thinking you have something to lose. You are already naked. There is no reason not to follow your heart.\n",
      "\n",
      "About a year ago I was diagnosed with cancer. I had a scan at 7:30 in the morning, and it clearly showed a tumor on my pancreas. I didn't even know what a pancreas was. The doctors told me this was almost certainly a type of cancer that is incurable, and that I should expect to live no longer than three to six months. My doctor advised me to go home and get my affairs in order, which is doctor's code for prepare to die. It means to try to tell your kids everything you thought you'd have the next 10 years to tell them in just a few months. It means to make sure everything is buttoned up so that it will be as easy as possible for your family. It means to say your goodbyes.\n",
      "\n",
      "I lived with that diagnosis all day. Later that evening I had a biopsy, where they stuck an endoscope down my throat, through my stomach and into my intestines, put a needle into my pancreas and got a few cells from the tumor. I was sedated, but my wife, who was there, told me that when they viewed the cells under a microscope the doctors started crying because it turned out to be a very rare form of pancreatic cancer that is curable with surgery. I had the surgery and I'm fine now.\n",
      "\n",
      "This was the closest I've been to facing death, and I hope it's the closest I get for a few more decades. Having lived through it, I can now say this to you with a bit more certainty than when death was a useful but purely intellectual concept:\n",
      "\n",
      "No one wants to die. Even people who want to go to heaven don't want to die to get there. And yet death is the destination we all share. No one has ever escaped it. And that is as it should be, because Death is very likely the single best invention of Life. It is Life's change agent. It clears out the old to make way for the new. Right now the new is you, but someday not too long from now, you will gradually become the old and be cleared away. Sorry to be so dramatic, but it is quite true.\n",
      "\n",
      "Your time is limited, so don't waste it living someone else's life. Don't be trapped by dogma — which is living with the results of other people's thinking. Don't let the noise of others' opinions drown out your own inner voice. And most important, have the courage to follow your heart and intuition. They somehow already know what you truly want to become. Everything else is secondary.\n",
      "\n",
      "When I was young, there was an amazing publication called The Whole Earth Catalog, which was one of the bibles of my generation. It was created by a fellow named Stewart Brand not far from here in Menlo Park, and he brought it to life with his poetic touch. This was in the late 1960s, before personal computers and desktop publishing, so it was all made with typewriters, scissors and Polaroid cameras. It was sort of like Google in paperback form, 35 years before Google came along: It was idealistic, and overflowing with neat tools and great notions.\n",
      "\n",
      "Stewart and his team put out several issues of The Whole Earth Catalog, and then when it had run its course, they put out a final issue. It was the mid,1970s, and I was your age. On the back cover of their final issue was a photograph of an early morning country road, the kind you might find yourself hitchhiking on if you were so adventurous. Beneath it were the words: \"Stay Hungry. Stay Foolish.\" It was their farewell message as they signed off. Stay Hungry. Stay Foolish. And I have always wished that for myself. And now, as you graduate to begin anew, I wish that for you.\n",
      "\n",
      "Stay Hungry. Stay Foolish.\n",
      "\n",
      "Thank you all very much.\n",
      "\n"
     ]
    }
   ],
   "source": [
    "a=speech.replace(\"-\",\",\")\n",
    "print(a)"
   ]
  },
  {
   "cell_type": "markdown",
   "metadata": {},
   "source": [
    "4. Convert the string into a list"
   ]
  },
  {
   "cell_type": "code",
   "execution_count": 4,
   "metadata": {},
   "outputs": [],
   "source": [
    "lista=speech.split()"
   ]
  },
  {
   "cell_type": "code",
   "execution_count": 5,
   "metadata": {},
   "outputs": [
    {
     "name": "stdout",
     "output_type": "stream",
     "text": [
      "['I', 'am', 'honored', 'to', 'be', 'with', 'you', 'today', 'at', 'your', 'commencement', 'from', 'one', 'of', 'the', 'finest', 'universities', 'in', 'the', 'world.', 'I', 'never', 'graduated', 'from', 'college.', 'Truth', 'be', 'told,', 'this', 'is', 'the', 'closest', \"I've\", 'ever', 'gotten', 'to', 'a', 'college', 'graduation.', 'Today', 'I', 'want', 'to', 'tell', 'you', 'three', 'stories', 'from', 'my', 'life.', \"That's\", 'it.', 'No', 'big', 'deal.', 'Just', 'three', 'stories.', 'The', 'first', 'story', 'is', 'about', 'connecting', 'the', 'dots.', 'I', 'dropped', 'out', 'of', 'Reed', 'College', 'after', 'the', 'first', '6', 'months,', 'but', 'then', 'stayed', 'around', 'as', 'a', 'drop-in', 'for', 'another', '18', 'months', 'or', 'so', 'before', 'I', 'really', 'quit.', 'So', 'why', 'did', 'I', 'drop', 'out?', 'It', 'started', 'before', 'I', 'was', 'born.', 'My', 'biological', 'mother', 'was', 'a', 'young,', 'unwed', 'college', 'graduate', 'student,', 'and', 'she', 'decided', 'to', 'put', 'me', 'up', 'for', 'adoption.', 'She', 'felt', 'very', 'strongly', 'that', 'I', 'should', 'be', 'adopted', 'by', 'college', 'graduates,', 'so', 'everything', 'was', 'all', 'set', 'for', 'me', 'to', 'be', 'adopted', 'at', 'birth', 'by', 'a', 'lawyer', 'and', 'his', 'wife.', 'Except', 'that', 'when', 'I', 'popped', 'out', 'they', 'decided', 'at', 'the', 'last', 'minute', 'that', 'they', 'really', 'wanted', 'a', 'girl.', 'So', 'my', 'parents,', 'who', 'were', 'on', 'a', 'waiting', 'list,', 'got', 'a', 'call', 'in', 'the', 'middle', 'of', 'the', 'night', 'asking:', '\"We', 'have', 'an', 'unexpected', 'baby', 'boy;', 'do', 'you', 'want', 'him?\"', 'They', 'said:', '\"Of', 'course.\"', 'My', 'biological', 'mother', 'later', 'found', 'out', 'that', 'my', 'mother', 'had', 'never', 'graduated', 'from', 'college', 'and', 'that', 'my', 'father', 'had', 'never', 'graduated', 'from', 'high', 'school.', 'She', 'refused', 'to', 'sign', 'the', 'final', 'adoption', 'papers.', 'She', 'only', 'relented', 'a', 'few', 'months', 'later', 'when', 'my', 'parents', 'promised', 'that', 'I', 'would', 'someday', 'go', 'to', 'college.', 'And', '17', 'years', 'later', 'I', 'did', 'go', 'to', 'college.', 'But', 'I', 'naively', 'chose', 'a', 'college', 'that', 'was', 'almost', 'as', 'expensive', 'as', 'Stanford,', 'and', 'all', 'of', 'my', 'working-class', \"parents'\", 'savings', 'were', 'being', 'spent', 'on', 'my', 'college', 'tuition.', 'After', 'six', 'months,', 'I', \"couldn't\", 'see', 'the', 'value', 'in', 'it.', 'I', 'had', 'no', 'idea', 'what', 'I', 'wanted', 'to', 'do', 'with', 'my', 'life', 'and', 'no', 'idea', 'how', 'college', 'was', 'going', 'to', 'help', 'me', 'figure', 'it', 'out.', 'And', 'here', 'I', 'was', 'spending', 'all', 'of', 'the', 'money', 'my', 'parents', 'had', 'saved', 'their', 'entire', 'life.', 'So', 'I', 'decided', 'to', 'drop', 'out', 'and', 'trust', 'that', 'it', 'would', 'all', 'work', 'out', 'OK.', 'It', 'was', 'pretty', 'scary', 'at', 'the', 'time,', 'but', 'looking', 'back', 'it', 'was', 'one', 'of', 'the', 'best', 'decisions', 'I', 'ever', 'made.', 'The', 'minute', 'I', 'dropped', 'out', 'I', 'could', 'stop', 'taking', 'the', 'required', 'classes', 'that', \"didn't\", 'interest', 'me,', 'and', 'begin', 'dropping', 'in', 'on', 'the', 'ones', 'that', 'looked', 'interesting.', 'It', \"wasn't\", 'all', 'romantic.', 'I', \"didn't\", 'have', 'a', 'dorm', 'room,', 'so', 'I', 'slept', 'on', 'the', 'floor', 'in', \"friends'\", 'rooms,', 'I', 'returned', 'Coke', 'bottles', 'for', 'the', '5¢', 'deposits', 'to', 'buy', 'food', 'with,', 'and', 'I', 'would', 'walk', 'the', '7', 'miles', 'across', 'town', 'every', 'Sunday', 'night', 'to', 'get', 'one', 'good', 'meal', 'a', 'week', 'at', 'the', 'Hare', 'Krishna', 'temple.', 'I', 'loved', 'it.', 'And', 'much', 'of', 'what', 'I', 'stumbled', 'into', 'by', 'following', 'my', 'curiosity', 'and', 'intuition', 'turned', 'out', 'to', 'be', 'priceless', 'later', 'on.', 'Let', 'me', 'give', 'you', 'one', 'example:', 'Reed', 'College', 'at', 'that', 'time', 'offered', 'perhaps', 'the', 'best', 'calligraphy', 'instruction', 'in', 'the', 'country.', 'Throughout', 'the', 'campus', 'every', 'poster,', 'every', 'label', 'on', 'every', 'drawer,', 'was', 'beautifully', 'hand', 'calligraphed.', 'Because', 'I', 'had', 'dropped', 'out', 'and', \"didn't\", 'have', 'to', 'take', 'the', 'normal', 'classes,', 'I', 'decided', 'to', 'take', 'a', 'calligraphy', 'class', 'to', 'learn', 'how', 'to', 'do', 'this.', 'I', 'learned', 'about', 'serif', 'and', 'sans', 'serif', 'typefaces,', 'about', 'varying', 'the', 'amount', 'of', 'space', 'between', 'different', 'letter', 'combinations,', 'about', 'what', 'makes', 'great', 'typography', 'great.', 'It', 'was', 'beautiful,', 'historical,', 'artistically', 'subtle', 'in', 'a', 'way', 'that', 'science', \"can't\", 'capture,', 'and', 'I', 'found', 'it', 'fascinating.', 'None', 'of', 'this', 'had', 'even', 'a', 'hope', 'of', 'any', 'practical', 'application', 'in', 'my', 'life.', 'But', '10', 'years', 'later,', 'when', 'we', 'were', 'designing', 'the', 'first', 'Macintosh', 'computer,', 'it', 'all', 'came', 'back', 'to', 'me.', 'And', 'we', 'designed', 'it', 'all', 'into', 'the', 'Mac.', 'It', 'was', 'the', 'first', 'computer', 'with', 'beautiful', 'typography.', 'If', 'I', 'had', 'never', 'dropped', 'in', 'on', 'that', 'single', 'course', 'in', 'college,', 'the', 'Mac', 'would', 'have', 'never', 'had', 'multiple', 'typefaces', 'or', 'proportionally', 'spaced', 'fonts.', 'And', 'since', 'Windows', 'just', 'copied', 'the', 'Mac,', \"it's\", 'likely', 'that', 'no', 'personal', 'computer', 'would', 'have', 'them.', 'If', 'I', 'had', 'never', 'dropped', 'out,', 'I', 'would', 'have', 'never', 'dropped', 'in', 'on', 'this', 'calligraphy', 'class,', 'and', 'personal', 'computers', 'might', 'not', 'have', 'the', 'wonderful', 'typography', 'that', 'they', 'do.', 'Of', 'course', 'it', 'was', 'impossible', 'to', 'connect', 'the', 'dots', 'looking', 'forward', 'when', 'I', 'was', 'in', 'college.', 'But', 'it', 'was', 'very,', 'very', 'clear', 'looking', 'backward', '10', 'years', 'later.', 'Again,', 'you', \"can't\", 'connect', 'the', 'dots', 'looking', 'forward;', 'you', 'can', 'only', 'connect', 'them', 'looking', 'backward.', 'So', 'you', 'have', 'to', 'trust', 'that', 'the', 'dots', 'will', 'somehow', 'connect', 'in', 'your', 'future.', 'You', 'have', 'to', 'trust', 'in', 'something', '—', 'your', 'gut,', 'destiny,', 'life,', 'karma,', 'whatever.', 'This', 'approach', 'has', 'never', 'let', 'me', 'down,', 'and', 'it', 'has', 'made', 'all', 'the', 'difference', 'in', 'my', 'life.', 'My', 'second', 'story', 'is', 'about', 'love', 'and', 'loss.', 'I', 'was', 'lucky', '—', 'I', 'found', 'what', 'I', 'loved', 'to', 'do', 'early', 'in', 'life.', 'Woz', 'and', 'I', 'started', 'Apple', 'in', 'my', \"parents'\", 'garage', 'when', 'I', 'was', '20.', 'We', 'worked', 'hard,', 'and', 'in', '10', 'years', 'Apple', 'had', 'grown', 'from', 'just', 'the', 'two', 'of', 'us', 'in', 'a', 'garage', 'into', 'a', '$2', 'billion', 'company', 'with', 'over', '4,000', 'employees.', 'We', 'had', 'just', 'released', 'our', 'finest', 'creation', '—', 'the', 'Macintosh', '—', 'a', 'year', 'earlier,', 'and', 'I', 'had', 'just', 'turned', '30.', 'And', 'then', 'I', 'got', 'fired.', 'How', 'can', 'you', 'get', 'fired', 'from', 'a', 'company', 'you', 'started?', 'Well,', 'as', 'Apple', 'grew', 'we', 'hired', 'someone', 'who', 'I', 'thought', 'was', 'very', 'talented', 'to', 'run', 'the', 'company', 'with', 'me,', 'and', 'for', 'the', 'first', 'year', 'or', 'so', 'things', 'went', 'well.', 'But', 'then', 'our', 'visions', 'of', 'the', 'future', 'began', 'to', 'diverge', 'and', 'eventually', 'we', 'had', 'a', 'falling', 'out.', 'When', 'we', 'did,', 'our', 'Board', 'of', 'Directors', 'sided', 'with', 'him.', 'So', 'at', '30', 'I', 'was', 'out.', 'And', 'very', 'publicly', 'out.', 'What', 'had', 'been', 'the', 'focus', 'of', 'my', 'entire', 'adult', 'life', 'was', 'gone,', 'and', 'it', 'was', 'devastating.', 'I', 'really', \"didn't\", 'know', 'what', 'to', 'do', 'for', 'a', 'few', 'months.', 'I', 'felt', 'that', 'I', 'had', 'let', 'the', 'previous', 'generation', 'of', 'entrepreneurs', 'down', '—', 'that', 'I', 'had', 'dropped', 'the', 'baton', 'as', 'it', 'was', 'being', 'passed', 'to', 'me.', 'I', 'met', 'with', 'David', 'Packard', 'and', 'Bob', 'Noyce', 'and', 'tried', 'to', 'apologize', 'for', 'screwing', 'up', 'so', 'badly.', 'I', 'was', 'a', 'very', 'public', 'failure,', 'and', 'I', 'even', 'thought', 'about', 'running', 'away', 'from', 'the', 'valley.', 'But', 'something', 'slowly', 'began', 'to', 'dawn', 'on', 'me', '—', 'I', 'still', 'loved', 'what', 'I', 'did.', 'The', 'turn', 'of', 'events', 'at', 'Apple', 'had', 'not', 'changed', 'that', 'one', 'bit.', 'I', 'had', 'been', 'rejected,', 'but', 'I', 'was', 'still', 'in', 'love.', 'And', 'so', 'I', 'decided', 'to', 'start', 'over.', 'I', \"didn't\", 'see', 'it', 'then,', 'but', 'it', 'turned', 'out', 'that', 'getting', 'fired', 'from', 'Apple', 'was', 'the', 'best', 'thing', 'that', 'could', 'have', 'ever', 'happened', 'to', 'me.', 'The', 'heaviness', 'of', 'being', 'successful', 'was', 'replaced', 'by', 'the', 'lightness', 'of', 'being', 'a', 'beginner', 'again,', 'less', 'sure', 'about', 'everything.', 'It', 'freed', 'me', 'to', 'enter', 'one', 'of', 'the', 'most', 'creative', 'periods', 'of', 'my', 'life.', 'During', 'the', 'next', 'five', 'years,', 'I', 'started', 'a', 'company', 'named', 'NeXT,', 'another', 'company', 'named', 'Pixar,', 'and', 'fell', 'in', 'love', 'with', 'an', 'amazing', 'woman', 'who', 'would', 'become', 'my', 'wife.', 'Pixar', 'went', 'on', 'to', 'create', 'the', \"world's\", 'first', 'computer', 'animated', 'feature', 'film,', 'Toy', 'Story,', 'and', 'is', 'now', 'the', 'most', 'successful', 'animation', 'studio', 'in', 'the', 'world.', 'In', 'a', 'remarkable', 'turn', 'of', 'events,', 'Apple', 'bought', 'NeXT,', 'I', 'returned', 'to', 'Apple,', 'and', 'the', 'technology', 'we', 'developed', 'at', 'NeXT', 'is', 'at', 'the', 'heart', 'of', \"Apple's\", 'current', 'renaissance.', 'And', 'Laurene', 'and', 'I', 'have', 'a', 'wonderful', 'family', 'together.', \"I'm\", 'pretty', 'sure', 'none', 'of', 'this', 'would', 'have', 'happened', 'if', 'I', \"hadn't\", 'been', 'fired', 'from', 'Apple.', 'It', 'was', 'awful', 'tasting', 'medicine,', 'but', 'I', 'guess', 'the', 'patient', 'needed', 'it.', 'Sometimes', 'life', 'hits', 'you', 'in', 'the', 'head', 'with', 'a', 'brick.', \"Don't\", 'lose', 'faith.', \"I'm\", 'convinced', 'that', 'the', 'only', 'thing', 'that', 'kept', 'me', 'going', 'was', 'that', 'I', 'loved', 'what', 'I', 'did.', \"You've\", 'got', 'to', 'find', 'what', 'you', 'love.', 'And', 'that', 'is', 'as', 'true', 'for', 'your', 'work', 'as', 'it', 'is', 'for', 'your', 'lovers.', 'Your', 'work', 'is', 'going', 'to', 'fill', 'a', 'large', 'part', 'of', 'your', 'life,', 'and', 'the', 'only', 'way', 'to', 'be', 'truly', 'satisfied', 'is', 'to', 'do', 'what', 'you', 'believe', 'is', 'great', 'work.', 'And', 'the', 'only', 'way', 'to', 'do', 'great', 'work', 'is', 'to', 'love', 'what', 'you', 'do.', 'If', 'you', \"haven't\", 'found', 'it', 'yet,', 'keep', 'looking.', \"Don't\", 'settle.', 'As', 'with', 'all', 'matters', 'of', 'the', 'heart,', \"you'll\", 'know', 'when', 'you', 'find', 'it.', 'And,', 'like', 'any', 'great', 'relationship,', 'it', 'just', 'gets', 'better', 'and', 'better', 'as', 'the', 'years', 'roll', 'on.', 'So', 'keep', 'looking', 'until', 'you', 'find', 'it.', \"Don't\", 'settle.', 'My', 'third', 'story', 'is', 'about', 'death.', 'When', 'I', 'was', '17,', 'I', 'read', 'a', 'quote', 'that', 'went', 'something', 'like:', '\"If', 'you', 'live', 'each', 'day', 'as', 'if', 'it', 'was', 'your', 'last,', 'someday', \"you'll\", 'most', 'certainly', 'be', 'right.\"', 'It', 'made', 'an', 'impression', 'on', 'me,', 'and', 'since', 'then,', 'for', 'the', 'past', '33', 'years,', 'I', 'have', 'looked', 'in', 'the', 'mirror', 'every', 'morning', 'and', 'asked', 'myself:', '\"If', 'today', 'were', 'the', 'last', 'day', 'of', 'my', 'life,', 'would', 'I', 'want', 'to', 'do', 'what', 'I', 'am', 'about', 'to', 'do', 'today?\"', 'And', 'whenever', 'the', 'answer', 'has', 'been', '\"No\"', 'for', 'too', 'many', 'days', 'in', 'a', 'row,', 'I', 'know', 'I', 'need', 'to', 'change', 'something.', 'Remembering', 'that', \"I'll\", 'be', 'dead', 'soon', 'is', 'the', 'most', 'important', 'tool', \"I've\", 'ever', 'encountered', 'to', 'help', 'me', 'make', 'the', 'big', 'choices', 'in', 'life.', 'Because', 'almost', 'everything', '—', 'all', 'external', 'expectations,', 'all', 'pride,', 'all', 'fear', 'of', 'embarrassment', 'or', 'failure', '—', 'these', 'things', 'just', 'fall', 'away', 'in', 'the', 'face', 'of', 'death,', 'leaving', 'only', 'what', 'is', 'truly', 'important.', 'Remembering', 'that', 'you', 'are', 'going', 'to', 'die', 'is', 'the', 'best', 'way', 'I', 'know', 'to', 'avoid', 'the', 'trap', 'of', 'thinking', 'you', 'have', 'something', 'to', 'lose.', 'You', 'are', 'already', 'naked.', 'There', 'is', 'no', 'reason', 'not', 'to', 'follow', 'your', 'heart.', 'About', 'a', 'year', 'ago', 'I', 'was', 'diagnosed', 'with', 'cancer.', 'I', 'had', 'a', 'scan', 'at', '7:30', 'in', 'the', 'morning,', 'and', 'it', 'clearly', 'showed', 'a', 'tumor', 'on', 'my', 'pancreas.', 'I', \"didn't\", 'even', 'know', 'what', 'a', 'pancreas', 'was.', 'The', 'doctors', 'told', 'me', 'this', 'was', 'almost', 'certainly', 'a', 'type', 'of', 'cancer', 'that', 'is', 'incurable,', 'and', 'that', 'I', 'should', 'expect', 'to', 'live', 'no', 'longer', 'than', 'three', 'to', 'six', 'months.', 'My', 'doctor', 'advised', 'me', 'to', 'go', 'home', 'and', 'get', 'my', 'affairs', 'in', 'order,', 'which', 'is', \"doctor's\", 'code', 'for', 'prepare', 'to', 'die.', 'It', 'means', 'to', 'try', 'to', 'tell', 'your', 'kids', 'everything', 'you', 'thought', \"you'd\", 'have', 'the', 'next', '10', 'years', 'to', 'tell', 'them', 'in', 'just', 'a', 'few', 'months.', 'It', 'means', 'to', 'make', 'sure', 'everything', 'is', 'buttoned', 'up', 'so', 'that', 'it', 'will', 'be', 'as', 'easy', 'as', 'possible', 'for', 'your', 'family.', 'It', 'means', 'to', 'say', 'your', 'goodbyes.', 'I', 'lived', 'with', 'that', 'diagnosis', 'all', 'day.', 'Later', 'that', 'evening', 'I', 'had', 'a', 'biopsy,', 'where', 'they', 'stuck', 'an', 'endoscope', 'down', 'my', 'throat,', 'through', 'my', 'stomach', 'and', 'into', 'my', 'intestines,', 'put', 'a', 'needle', 'into', 'my', 'pancreas', 'and', 'got', 'a', 'few', 'cells', 'from', 'the', 'tumor.', 'I', 'was', 'sedated,', 'but', 'my', 'wife,', 'who', 'was', 'there,', 'told', 'me', 'that', 'when', 'they', 'viewed', 'the', 'cells', 'under', 'a', 'microscope', 'the', 'doctors', 'started', 'crying', 'because', 'it', 'turned', 'out', 'to', 'be', 'a', 'very', 'rare', 'form', 'of', 'pancreatic', 'cancer', 'that', 'is', 'curable', 'with', 'surgery.', 'I', 'had', 'the', 'surgery', 'and', \"I'm\", 'fine', 'now.', 'This', 'was', 'the', 'closest', \"I've\", 'been', 'to', 'facing', 'death,', 'and', 'I', 'hope', \"it's\", 'the', 'closest', 'I', 'get', 'for', 'a', 'few', 'more', 'decades.', 'Having', 'lived', 'through', 'it,', 'I', 'can', 'now', 'say', 'this', 'to', 'you', 'with', 'a', 'bit', 'more', 'certainty', 'than', 'when', 'death', 'was', 'a', 'useful', 'but', 'purely', 'intellectual', 'concept:', 'No', 'one', 'wants', 'to', 'die.', 'Even', 'people', 'who', 'want', 'to', 'go', 'to', 'heaven', \"don't\", 'want', 'to', 'die', 'to', 'get', 'there.', 'And', 'yet', 'death', 'is', 'the', 'destination', 'we', 'all', 'share.', 'No', 'one', 'has', 'ever', 'escaped', 'it.', 'And', 'that', 'is', 'as', 'it', 'should', 'be,', 'because', 'Death', 'is', 'very', 'likely', 'the', 'single', 'best', 'invention', 'of', 'Life.', 'It', 'is', \"Life's\", 'change', 'agent.', 'It', 'clears', 'out', 'the', 'old', 'to', 'make', 'way', 'for', 'the', 'new.', 'Right', 'now', 'the', 'new', 'is', 'you,', 'but', 'someday', 'not', 'too', 'long', 'from', 'now,', 'you', 'will', 'gradually', 'become', 'the', 'old', 'and', 'be', 'cleared', 'away.', 'Sorry', 'to', 'be', 'so', 'dramatic,', 'but', 'it', 'is', 'quite', 'true.', 'Your', 'time', 'is', 'limited,', 'so', \"don't\", 'waste', 'it', 'living', 'someone', \"else's\", 'life.', \"Don't\", 'be', 'trapped', 'by', 'dogma', '—', 'which', 'is', 'living', 'with', 'the', 'results', 'of', 'other', \"people's\", 'thinking.', \"Don't\", 'let', 'the', 'noise', 'of', \"others'\", 'opinions', 'drown', 'out', 'your', 'own', 'inner', 'voice.', 'And', 'most', 'important,', 'have', 'the', 'courage', 'to', 'follow', 'your', 'heart', 'and', 'intuition.', 'They', 'somehow', 'already', 'know', 'what', 'you', 'truly', 'want', 'to', 'become.', 'Everything', 'else', 'is', 'secondary.', 'When', 'I', 'was', 'young,', 'there', 'was', 'an', 'amazing', 'publication', 'called', 'The', 'Whole', 'Earth', 'Catalog,', 'which', 'was', 'one', 'of', 'the', 'bibles', 'of', 'my', 'generation.', 'It', 'was', 'created', 'by', 'a', 'fellow', 'named', 'Stewart', 'Brand', 'not', 'far', 'from', 'here', 'in', 'Menlo', 'Park,', 'and', 'he', 'brought', 'it', 'to', 'life', 'with', 'his', 'poetic', 'touch.', 'This', 'was', 'in', 'the', 'late', '1960s,', 'before', 'personal', 'computers', 'and', 'desktop', 'publishing,', 'so', 'it', 'was', 'all', 'made', 'with', 'typewriters,', 'scissors', 'and', 'Polaroid', 'cameras.', 'It', 'was', 'sort', 'of', 'like', 'Google', 'in', 'paperback', 'form,', '35', 'years', 'before', 'Google', 'came', 'along:', 'It', 'was', 'idealistic,', 'and', 'overflowing', 'with', 'neat', 'tools', 'and', 'great', 'notions.', 'Stewart', 'and', 'his', 'team', 'put', 'out', 'several', 'issues', 'of', 'The', 'Whole', 'Earth', 'Catalog,', 'and', 'then', 'when', 'it', 'had', 'run', 'its', 'course,', 'they', 'put', 'out', 'a', 'final', 'issue.', 'It', 'was', 'the', 'mid-1970s,', 'and', 'I', 'was', 'your', 'age.', 'On', 'the', 'back', 'cover', 'of', 'their', 'final', 'issue', 'was', 'a', 'photograph', 'of', 'an', 'early', 'morning', 'country', 'road,', 'the', 'kind', 'you', 'might', 'find', 'yourself', 'hitchhiking', 'on', 'if', 'you', 'were', 'so', 'adventurous.', 'Beneath', 'it', 'were', 'the', 'words:', '\"Stay', 'Hungry.', 'Stay', 'Foolish.\"', 'It', 'was', 'their', 'farewell', 'message', 'as', 'they', 'signed', 'off.', 'Stay', 'Hungry.', 'Stay', 'Foolish.', 'And', 'I', 'have', 'always', 'wished', 'that', 'for', 'myself.', 'And', 'now,', 'as', 'you', 'graduate', 'to', 'begin', 'anew,', 'I', 'wish', 'that', 'for', 'you.', 'Stay', 'Hungry.', 'Stay', 'Foolish.', 'Thank', 'you', 'all', 'very', 'much.']\n"
     ]
    }
   ],
   "source": [
    "print(lista)"
   ]
  },
  {
   "cell_type": "markdown",
   "metadata": {},
   "source": [
    "5. Use a dictionary to get the list of words and their frequencies."
   ]
  },
  {
   "cell_type": "code",
   "execution_count": 6,
   "metadata": {},
   "outputs": [
    {
     "name": "stdout",
     "output_type": "stream",
     "text": [
      "{'I': 86, 'am': 2, 'honored': 1, 'to': 71, 'be': 13, 'with': 18, 'you': 27, 'today': 2, 'at': 11, 'your': 14, 'commencement': 1, 'from': 13, 'one': 9, 'of': 40, 'the': 91, 'finest': 2, 'universities': 1, 'in': 33, 'world.': 2, 'never': 8, 'graduated': 3, 'college.': 4, 'Truth': 1, 'told,': 1, 'this': 6, 'is': 29, 'closest': 3, \"I've\": 3, 'ever': 5, 'gotten': 1, 'a': 46, 'college': 7, 'graduation.': 1, 'Today': 1, 'want': 6, 'tell': 3, 'three': 3, 'stories': 1, 'my': 25, 'life.': 8, \"That's\": 1, 'it.': 7, 'No': 3, 'big': 2, 'deal.': 1, 'Just': 1, 'stories.': 1, 'The': 7, 'first': 6, 'story': 3, 'about': 9, 'connecting': 1, 'dots.': 1, 'dropped': 7, 'out': 14, 'Reed': 2, 'College': 2, 'after': 1, '6': 1, 'months,': 2, 'but': 9, 'then': 4, 'stayed': 1, 'around': 1, 'as': 14, 'drop-in': 1, 'for': 17, 'another': 2, '18': 1, 'months': 2, 'or': 4, 'so': 11, 'before': 4, 'really': 3, 'quit.': 1, 'So': 6, 'why': 1, 'did': 2, 'drop': 2, 'out?': 1, 'It': 18, 'started': 4, 'was': 47, 'born.': 1, 'My': 5, 'biological': 2, 'mother': 3, 'young,': 2, 'unwed': 1, 'graduate': 2, 'student,': 1, 'and': 49, 'she': 1, 'decided': 5, 'put': 4, 'me': 12, 'up': 3, 'adoption.': 1, 'She': 3, 'felt': 2, 'very': 8, 'strongly': 1, 'that': 38, 'should': 3, 'adopted': 2, 'by': 6, 'graduates,': 1, 'everything': 4, 'all': 16, 'set': 1, 'birth': 1, 'lawyer': 1, 'his': 3, 'wife.': 2, 'Except': 1, 'when': 9, 'popped': 1, 'they': 7, 'last': 2, 'minute': 2, 'wanted': 2, 'girl.': 1, 'parents,': 1, 'who': 5, 'were': 6, 'on': 12, 'waiting': 1, 'list,': 1, 'got': 4, 'call': 1, 'middle': 1, 'night': 2, 'asking:': 1, '\"We': 1, 'have': 17, 'an': 6, 'unexpected': 1, 'baby': 1, 'boy;': 1, 'do': 9, 'him?\"': 1, 'They': 2, 'said:': 1, '\"Of': 1, 'course.\"': 1, 'later': 4, 'found': 4, 'had': 22, 'father': 1, 'high': 1, 'school.': 1, 'refused': 1, 'sign': 1, 'final': 3, 'adoption': 1, 'papers.': 1, 'only': 6, 'relented': 1, 'few': 5, 'parents': 2, 'promised': 1, 'would': 9, 'someday': 3, 'go': 4, 'And': 17, '17': 1, 'years': 7, 'But': 5, 'naively': 1, 'chose': 1, 'almost': 3, 'expensive': 1, 'Stanford,': 1, 'working-class': 1, \"parents'\": 2, 'savings': 1, 'being': 4, 'spent': 1, 'tuition.': 1, 'After': 1, 'six': 2, \"couldn't\": 1, 'see': 2, 'value': 1, 'no': 5, 'idea': 2, 'what': 14, 'life': 4, 'how': 2, 'going': 4, 'help': 2, 'figure': 1, 'it': 27, 'out.': 4, 'here': 2, 'spending': 1, 'money': 1, 'saved': 1, 'their': 3, 'entire': 2, 'trust': 3, 'work': 4, 'OK.': 1, 'pretty': 2, 'scary': 1, 'time,': 1, 'looking': 6, 'back': 3, 'best': 5, 'decisions': 1, 'made.': 1, 'could': 2, 'stop': 1, 'taking': 1, 'required': 1, 'classes': 1, \"didn't\": 6, 'interest': 1, 'me,': 3, 'begin': 2, 'dropping': 1, 'ones': 1, 'looked': 2, 'interesting.': 1, \"wasn't\": 1, 'romantic.': 1, 'dorm': 1, 'room,': 1, 'slept': 1, 'floor': 1, \"friends'\": 1, 'rooms,': 1, 'returned': 2, 'Coke': 1, 'bottles': 1, '5¢': 1, 'deposits': 1, 'buy': 1, 'food': 1, 'with,': 1, 'walk': 1, '7': 1, 'miles': 1, 'across': 1, 'town': 1, 'every': 5, 'Sunday': 1, 'get': 5, 'good': 1, 'meal': 1, 'week': 1, 'Hare': 1, 'Krishna': 1, 'temple.': 1, 'loved': 4, 'much': 1, 'stumbled': 1, 'into': 5, 'following': 1, 'curiosity': 1, 'intuition': 1, 'turned': 4, 'priceless': 1, 'on.': 2, 'Let': 1, 'give': 1, 'example:': 1, 'time': 2, 'offered': 1, 'perhaps': 1, 'calligraphy': 3, 'instruction': 1, 'country.': 1, 'Throughout': 1, 'campus': 1, 'poster,': 1, 'label': 1, 'drawer,': 1, 'beautifully': 1, 'hand': 1, 'calligraphed.': 1, 'Because': 2, 'take': 2, 'normal': 1, 'classes,': 1, 'class': 1, 'learn': 1, 'this.': 1, 'learned': 1, 'serif': 2, 'sans': 1, 'typefaces,': 1, 'varying': 1, 'amount': 1, 'space': 1, 'between': 1, 'different': 1, 'letter': 1, 'combinations,': 1, 'makes': 1, 'great': 5, 'typography': 2, 'great.': 1, 'beautiful,': 1, 'historical,': 1, 'artistically': 1, 'subtle': 1, 'way': 5, 'science': 1, \"can't\": 2, 'capture,': 1, 'fascinating.': 1, 'None': 1, 'even': 3, 'hope': 2, 'any': 2, 'practical': 1, 'application': 1, '10': 4, 'later,': 1, 'we': 7, 'designing': 1, 'Macintosh': 2, 'computer,': 1, 'came': 2, 'me.': 3, 'designed': 1, 'Mac.': 1, 'computer': 3, 'beautiful': 1, 'typography.': 1, 'If': 3, 'single': 2, 'course': 2, 'college,': 1, 'Mac': 1, 'multiple': 1, 'typefaces': 1, 'proportionally': 1, 'spaced': 1, 'fonts.': 1, 'since': 2, 'Windows': 1, 'just': 7, 'copied': 1, 'Mac,': 1, \"it's\": 2, 'likely': 2, 'personal': 3, 'them.': 1, 'out,': 1, 'class,': 1, 'computers': 2, 'might': 2, 'not': 5, 'wonderful': 2, 'do.': 2, 'Of': 1, 'impossible': 1, 'connect': 4, 'dots': 3, 'forward': 1, 'very,': 1, 'clear': 1, 'backward': 1, 'later.': 1, 'Again,': 1, 'forward;': 1, 'can': 3, 'them': 2, 'backward.': 1, 'will': 3, 'somehow': 2, 'future.': 1, 'You': 2, 'something': 4, '—': 9, 'gut,': 1, 'destiny,': 1, 'life,': 3, 'karma,': 1, 'whatever.': 1, 'This': 3, 'approach': 1, 'has': 4, 'let': 3, 'down,': 1, 'made': 3, 'difference': 1, 'second': 1, 'love': 3, 'loss.': 1, 'lucky': 1, 'early': 2, 'Woz': 1, 'Apple': 6, 'garage': 2, '20.': 1, 'We': 2, 'worked': 1, 'hard,': 1, 'grown': 1, 'two': 1, 'us': 1, '$2': 1, 'billion': 1, 'company': 5, 'over': 1, '4,000': 1, 'employees.': 1, 'released': 1, 'our': 3, 'creation': 1, 'year': 3, 'earlier,': 1, '30.': 1, 'fired.': 1, 'How': 1, 'fired': 3, 'started?': 1, 'Well,': 1, 'grew': 1, 'hired': 1, 'someone': 2, 'thought': 3, 'talented': 1, 'run': 2, 'things': 2, 'went': 3, 'well.': 1, 'visions': 1, 'future': 1, 'began': 2, 'diverge': 1, 'eventually': 1, 'falling': 1, 'When': 3, 'did,': 1, 'Board': 1, 'Directors': 1, 'sided': 1, 'him.': 1, '30': 1, 'publicly': 1, 'What': 1, 'been': 5, 'focus': 1, 'adult': 1, 'gone,': 1, 'devastating.': 1, 'know': 6, 'months.': 3, 'previous': 1, 'generation': 1, 'entrepreneurs': 1, 'down': 2, 'baton': 1, 'passed': 1, 'met': 1, 'David': 1, 'Packard': 1, 'Bob': 1, 'Noyce': 1, 'tried': 1, 'apologize': 1, 'screwing': 1, 'badly.': 1, 'public': 1, 'failure,': 1, 'running': 1, 'away': 2, 'valley.': 1, 'slowly': 1, 'dawn': 1, 'still': 2, 'did.': 2, 'turn': 2, 'events': 1, 'changed': 1, 'bit.': 1, 'rejected,': 1, 'love.': 2, 'start': 1, 'over.': 1, 'then,': 2, 'getting': 1, 'thing': 2, 'happened': 2, 'heaviness': 1, 'successful': 2, 'replaced': 1, 'lightness': 1, 'beginner': 1, 'again,': 1, 'less': 1, 'sure': 3, 'everything.': 1, 'freed': 1, 'enter': 1, 'most': 5, 'creative': 1, 'periods': 1, 'During': 1, 'next': 2, 'five': 1, 'years,': 2, 'named': 3, 'NeXT,': 2, 'Pixar,': 1, 'fell': 1, 'amazing': 2, 'woman': 1, 'become': 2, 'Pixar': 1, 'create': 1, \"world's\": 1, 'animated': 1, 'feature': 1, 'film,': 1, 'Toy': 1, 'Story,': 1, 'now': 3, 'animation': 1, 'studio': 1, 'In': 1, 'remarkable': 1, 'events,': 1, 'bought': 1, 'Apple,': 1, 'technology': 1, 'developed': 1, 'NeXT': 1, 'heart': 2, \"Apple's\": 1, 'current': 1, 'renaissance.': 1, 'Laurene': 1, 'family': 1, 'together.': 1, \"I'm\": 3, 'none': 1, 'if': 3, \"hadn't\": 1, 'Apple.': 1, 'awful': 1, 'tasting': 1, 'medicine,': 1, 'guess': 1, 'patient': 1, 'needed': 1, 'Sometimes': 1, 'hits': 1, 'head': 1, 'brick.': 1, \"Don't\": 5, 'lose': 1, 'faith.': 1, 'convinced': 1, 'kept': 1, \"You've\": 1, 'find': 4, 'true': 1, 'lovers.': 1, 'Your': 2, 'fill': 1, 'large': 1, 'part': 1, 'truly': 3, 'satisfied': 1, 'believe': 1, 'work.': 1, \"haven't\": 1, 'yet,': 1, 'keep': 2, 'looking.': 1, 'settle.': 2, 'As': 1, 'matters': 1, 'heart,': 1, \"you'll\": 2, 'And,': 1, 'like': 2, 'relationship,': 1, 'gets': 1, 'better': 2, 'roll': 1, 'until': 1, 'third': 1, 'death.': 1, '17,': 1, 'read': 1, 'quote': 1, 'like:': 1, '\"If': 2, 'live': 2, 'each': 1, 'day': 2, 'last,': 1, 'certainly': 2, 'right.\"': 1, 'impression': 1, 'past': 1, '33': 1, 'mirror': 1, 'morning': 2, 'asked': 1, 'myself:': 1, 'today?\"': 1, 'whenever': 1, 'answer': 1, '\"No\"': 1, 'too': 2, 'many': 1, 'days': 1, 'row,': 1, 'need': 1, 'change': 2, 'something.': 1, 'Remembering': 2, \"I'll\": 1, 'dead': 1, 'soon': 1, 'important': 1, 'tool': 1, 'encountered': 1, 'make': 3, 'choices': 1, 'external': 1, 'expectations,': 1, 'pride,': 1, 'fear': 1, 'embarrassment': 1, 'failure': 1, 'these': 1, 'fall': 1, 'face': 1, 'death,': 2, 'leaving': 1, 'important.': 1, 'are': 2, 'die': 2, 'avoid': 1, 'trap': 1, 'thinking': 1, 'lose.': 1, 'already': 2, 'naked.': 1, 'There': 1, 'reason': 1, 'follow': 2, 'heart.': 1, 'About': 1, 'ago': 1, 'diagnosed': 1, 'cancer.': 1, 'scan': 1, '7:30': 1, 'morning,': 1, 'clearly': 1, 'showed': 1, 'tumor': 1, 'pancreas.': 1, 'pancreas': 2, 'was.': 1, 'doctors': 2, 'told': 2, 'type': 1, 'cancer': 2, 'incurable,': 1, 'expect': 1, 'longer': 1, 'than': 2, 'doctor': 1, 'advised': 1, 'home': 1, 'affairs': 1, 'order,': 1, 'which': 3, \"doctor's\": 1, 'code': 1, 'prepare': 1, 'die.': 2, 'means': 3, 'try': 1, 'kids': 1, \"you'd\": 1, 'buttoned': 1, 'easy': 1, 'possible': 1, 'family.': 1, 'say': 2, 'goodbyes.': 1, 'lived': 2, 'diagnosis': 1, 'day.': 1, 'Later': 1, 'evening': 1, 'biopsy,': 1, 'where': 1, 'stuck': 1, 'endoscope': 1, 'throat,': 1, 'through': 2, 'stomach': 1, 'intestines,': 1, 'needle': 1, 'cells': 2, 'tumor.': 1, 'sedated,': 1, 'wife,': 1, 'there,': 1, 'viewed': 1, 'under': 1, 'microscope': 1, 'crying': 1, 'because': 2, 'rare': 1, 'form': 1, 'pancreatic': 1, 'curable': 1, 'surgery.': 1, 'surgery': 1, 'fine': 1, 'now.': 1, 'facing': 1, 'more': 2, 'decades.': 1, 'Having': 1, 'it,': 1, 'bit': 1, 'certainty': 1, 'death': 2, 'useful': 1, 'purely': 1, 'intellectual': 1, 'concept:': 1, 'wants': 1, 'Even': 1, 'people': 1, 'heaven': 1, \"don't\": 2, 'there.': 1, 'yet': 1, 'destination': 1, 'share.': 1, 'escaped': 1, 'be,': 1, 'Death': 1, 'invention': 1, 'Life.': 1, \"Life's\": 1, 'agent.': 1, 'clears': 1, 'old': 2, 'new.': 1, 'Right': 1, 'new': 1, 'you,': 1, 'long': 1, 'now,': 2, 'gradually': 1, 'cleared': 1, 'away.': 1, 'Sorry': 1, 'dramatic,': 1, 'quite': 1, 'true.': 1, 'limited,': 1, 'waste': 1, 'living': 2, \"else's\": 1, 'trapped': 1, 'dogma': 1, 'results': 1, 'other': 1, \"people's\": 1, 'thinking.': 1, 'noise': 1, \"others'\": 1, 'opinions': 1, 'drown': 1, 'own': 1, 'inner': 1, 'voice.': 1, 'important,': 1, 'courage': 1, 'intuition.': 1, 'become.': 1, 'Everything': 1, 'else': 1, 'secondary.': 1, 'there': 1, 'publication': 1, 'called': 1, 'Whole': 2, 'Earth': 2, 'Catalog,': 2, 'bibles': 1, 'generation.': 1, 'created': 1, 'fellow': 1, 'Stewart': 2, 'Brand': 1, 'far': 1, 'Menlo': 1, 'Park,': 1, 'he': 1, 'brought': 1, 'poetic': 1, 'touch.': 1, 'late': 1, '1960s,': 1, 'desktop': 1, 'publishing,': 1, 'typewriters,': 1, 'scissors': 1, 'Polaroid': 1, 'cameras.': 1, 'sort': 1, 'Google': 2, 'paperback': 1, 'form,': 1, '35': 1, 'along:': 1, 'idealistic,': 1, 'overflowing': 1, 'neat': 1, 'tools': 1, 'notions.': 1, 'team': 1, 'several': 1, 'issues': 1, 'its': 1, 'course,': 1, 'issue.': 1, 'mid-1970s,': 1, 'age.': 1, 'On': 1, 'cover': 1, 'issue': 1, 'photograph': 1, 'country': 1, 'road,': 1, 'kind': 1, 'yourself': 1, 'hitchhiking': 1, 'adventurous.': 1, 'Beneath': 1, 'words:': 1, '\"Stay': 1, 'Hungry.': 3, 'Stay': 5, 'Foolish.\"': 1, 'farewell': 1, 'message': 1, 'signed': 1, 'off.': 1, 'Foolish.': 2, 'always': 1, 'wished': 1, 'myself.': 1, 'anew,': 1, 'wish': 1, 'you.': 1, 'Thank': 1, 'much.': 1}\n"
     ]
    }
   ],
   "source": [
    "ListofWords = {}\n",
    "for word in lista:\n",
    "    if word in ListofWords:\n",
    "        ListofWords [word] += 1\n",
    "    else:\n",
    "        ListofWords [word] = 1\n",
    "print(ListofWords)"
   ]
  },
  {
   "cell_type": "markdown",
   "metadata": {},
   "source": [
    "6. Sort the dictionary alphabetically"
   ]
  },
  {
   "cell_type": "code",
   "execution_count": 7,
   "metadata": {},
   "outputs": [
    {
     "ename": "NameError",
     "evalue": "name 'dictofWords' is not defined",
     "output_type": "error",
     "traceback": [
      "\u001b[1;31m---------------------------------------------------------------------------\u001b[0m",
      "\u001b[1;31mNameError\u001b[0m                                 Traceback (most recent call last)",
      "\u001b[1;32m<ipython-input-7-38fd5d158544>\u001b[0m in \u001b[0;36m<module>\u001b[1;34m\u001b[0m\n\u001b[1;32m----> 1\u001b[1;33m \u001b[0msorted\u001b[0m\u001b[1;33m(\u001b[0m\u001b[0mdictofWords\u001b[0m\u001b[1;33m.\u001b[0m\u001b[0mvalues\u001b[0m\u001b[1;33m(\u001b[0m\u001b[1;33m)\u001b[0m\u001b[1;33m)\u001b[0m\u001b[1;33m\u001b[0m\u001b[1;33m\u001b[0m\u001b[0m\n\u001b[0m",
      "\u001b[1;31mNameError\u001b[0m: name 'dictofWords' is not defined"
     ]
    }
   ],
   "source": [
    "sorted(dictofWords.values())"
   ]
  },
  {
   "cell_type": "code",
   "execution_count": null,
   "metadata": {},
   "outputs": [],
   "source": [
    "for texto in sorted(dictofWords.values()):\n",
    "    print(texto)"
   ]
  },
  {
   "cell_type": "markdown",
   "metadata": {},
   "source": [
    "7. How many words does the text have?"
   ]
  },
  {
   "cell_type": "code",
   "execution_count": null,
   "metadata": {},
   "outputs": [],
   "source": [
    "len(dictofWords)"
   ]
  },
  {
   "cell_type": "markdown",
   "metadata": {},
   "source": [
    "8. What is the most frequent word?"
   ]
  },
  {
   "cell_type": "code",
   "execution_count": null,
   "metadata": {},
   "outputs": [],
   "source": [
    "def most_frequent(lista):\n",
    "    return max(set(lista), key=lista.count)\n",
    "print(most_frequent(lista))"
   ]
  },
  {
   "cell_type": "markdown",
   "metadata": {},
   "source": [
    "9. Sort the words from the most frequent to the least frequent."
   ]
  },
  {
   "cell_type": "code",
   "execution_count": null,
   "metadata": {},
   "outputs": [],
   "source": [
    "lista.sort(key=len)\n",
    "lista"
   ]
  },
  {
   "cell_type": "markdown",
   "metadata": {},
   "source": [
    "10. How many words have appeared more than 50 times in the text?"
   ]
  },
  {
   "cell_type": "code",
   "execution_count": null,
   "metadata": {},
   "outputs": [],
   "source": []
  }
 ],
 "metadata": {
  "kernelspec": {
   "display_name": "Python 3",
   "language": "python",
   "name": "python3"
  },
  "language_info": {
   "codemirror_mode": {
    "name": "ipython",
    "version": 3
   },
   "file_extension": ".py",
   "mimetype": "text/x-python",
   "name": "python",
   "nbconvert_exporter": "python",
   "pygments_lexer": "ipython3",
   "version": "3.8.3"
  }
 },
 "nbformat": 4,
 "nbformat_minor": 4
}
