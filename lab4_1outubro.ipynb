{
 "cells": [
  {
   "cell_type": "code",
   "execution_count": 1,
   "metadata": {},
   "outputs": [],
   "source": [
    "#Ask the user to insert his name and age. Then, calculate his birth year."
   ]
  },
  {
   "cell_type": "code",
   "execution_count": 2,
   "metadata": {
    "scrolled": true
   },
   "outputs": [
    {
     "name": "stdout",
     "output_type": "stream",
     "text": [
      "insert your nameRita\n",
      "insert your age21\n"
     ]
    }
   ],
   "source": [
    "input (\"insert your name\")\n",
    "a=input(\"insert your age\")"
   ]
  },
  {
   "cell_type": "code",
   "execution_count": 3,
   "metadata": {},
   "outputs": [
    {
     "data": {
      "text/plain": [
       "1999"
      ]
     },
     "execution_count": 3,
     "metadata": {},
     "output_type": "execute_result"
    }
   ],
   "source": [
    "from datetime import date\n",
    "today = date.today()\n",
    "today.year-int(a)"
   ]
  },
  {
   "cell_type": "code",
   "execution_count": 4,
   "metadata": {},
   "outputs": [],
   "source": [
    "#Ask the user to insert a text. The program will always answer \"yes\". The conversation will be closed when the user says \"bye\"."
   ]
  },
  {
   "cell_type": "code",
   "execution_count": 5,
   "metadata": {},
   "outputs": [
    {
     "name": "stdout",
     "output_type": "stream",
     "text": [
      "Insira um pequeno texto:Olá\n",
      "sim\n",
      "Insira um pequeno texto:Adeus\n",
      "sim\n",
      "Insira um pequeno texto:bye\n",
      "\n"
     ]
    }
   ],
   "source": [
    "texto=\"\"\n",
    "while texto!='bye':\n",
    "    texto=input(\"Insira um pequeno texto:\")\n",
    "    if texto=='bye':\n",
    "        print()\n",
    "    else:\n",
    "        print(\"sim\")"
   ]
  },
  {
   "cell_type": "code",
   "execution_count": 6,
   "metadata": {},
   "outputs": [],
   "source": [
    "#Create a function for a greeting"
   ]
  },
  {
   "cell_type": "code",
   "execution_count": 1,
   "metadata": {},
   "outputs": [
    {
     "name": "stdout",
     "output_type": "stream",
     "text": [
      "Hello, Rita. Good morning!\n"
     ]
    }
   ],
   "source": [
    "def greet(name):\n",
    "    print(\"Hello, \" + name + \". Good morning!\")\n",
    "a='Rita'\n",
    "greet(a)"
   ]
  },
  {
   "cell_type": "code",
   "execution_count": 2,
   "metadata": {},
   "outputs": [],
   "source": [
    "#Call greeting function at the beginning of the conversation."
   ]
  },
  {
   "cell_type": "code",
   "execution_count": 3,
   "metadata": {
    "scrolled": true
   },
   "outputs": [
    {
     "name": "stdout",
     "output_type": "stream",
     "text": [
      "Hello, Rita. Good morning!\n",
      "Insira um pequeno texto:Olá\n",
      "sim\n",
      "Insira um pequeno texto:Adeus\n",
      "sim\n",
      "Insira um pequeno texto:bye\n",
      "\n"
     ]
    }
   ],
   "source": [
    "greet(a)\n",
    "texto=\"\"\n",
    "while texto!='bye':\n",
    "    texto=input(\"Insira um pequeno texto:\")\n",
    "    if texto=='bye':\n",
    "        print()\n",
    "    else:\n",
    "        print(\"sim\")"
   ]
  },
  {
   "cell_type": "code",
   "execution_count": 4,
   "metadata": {},
   "outputs": [],
   "source": [
    "# Improve your chatbot"
   ]
  },
  {
   "cell_type": "code",
   "execution_count": 4,
   "metadata": {},
   "outputs": [
    {
     "name": "stdout",
     "output_type": "stream",
     "text": [
      "Hello, Rita. Good morning!\n",
      "Answer please:Olá!!\n",
      "Olá, Rita!\n",
      "Tudo bem?Sim!!\n",
      "Boa!\n",
      "Tenho de ir:Bye\n",
      "\n"
     ]
    }
   ],
   "source": [
    "greet(a)\n",
    "texto=\"\"\n",
    "while texto!='Bye':\n",
    "    texto=input(\"Answer please:\")\n",
    "    if texto=='Bye':\n",
    "        print()\n",
    "    else:\n",
    "        print(\"Olá, \" + a + \"!\")\n",
    "    texto=input(\"Tudo bem?\")\n",
    "    if texto=='Bye':\n",
    "        print()\n",
    "    else:\n",
    "        print(\"Boa!\")\n",
    "    texto=input(\"Tenho de ir:\")\n",
    "    if texto=='Bye':\n",
    "        print()\n",
    "    else:\n",
    "        print(\"Adeus\")"
   ]
  }
 ],
 "metadata": {
  "kernelspec": {
   "display_name": "Python 3",
   "language": "python",
   "name": "python3"
  },
  "language_info": {
   "codemirror_mode": {
    "name": "ipython",
    "version": 3
   },
   "file_extension": ".py",
   "mimetype": "text/x-python",
   "name": "python",
   "nbconvert_exporter": "python",
   "pygments_lexer": "ipython3",
   "version": "3.8.3"
  }
 },
 "nbformat": 4,
 "nbformat_minor": 4
}
